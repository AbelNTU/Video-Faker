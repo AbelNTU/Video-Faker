{
 "cells": [
  {
   "cell_type": "code",
   "execution_count": 1,
   "metadata": {
    "collapsed": true
   },
   "outputs": [],
   "source": [
    "%matplotlib inline\n",
    "import os\n",
    "from PIL import Image\n",
    "import matplotlib.pyplot as plt"
   ]
  },
  {
   "cell_type": "code",
   "execution_count": 2,
   "metadata": {
    "collapsed": true
   },
   "outputs": [],
   "source": [
    "import numpy as np\n",
    "import cv2"
   ]
  },
  {
   "cell_type": "code",
   "execution_count": 52,
   "metadata": {
    "collapsed": true
   },
   "outputs": [
    {
     "name": "stdout",
     "output_type": "stream",
     "text": [
      "True\n",
      "<type 'numpy.ndarray'>\n",
      "True\n",
      "<type 'numpy.ndarray'>\n",
      "True\n",
      "<type 'numpy.ndarray'>\n",
      "True\n",
      "<type 'numpy.ndarray'>\n",
      "True\n",
      "<type 'numpy.ndarray'>\n",
      "True\n",
      "<type 'numpy.ndarray'>\n",
      "True\n",
      "<type 'numpy.ndarray'>\n",
      "True\n",
      "<type 'numpy.ndarray'>\n",
      "True\n",
      "<type 'numpy.ndarray'>\n",
      "True\n",
      "<type 'numpy.ndarray'>\n",
      "True\n",
      "<type 'numpy.ndarray'>\n",
      "True\n",
      "<type 'numpy.ndarray'>\n",
      "True\n",
      "<type 'numpy.ndarray'>\n",
      "True\n",
      "<type 'numpy.ndarray'>\n",
      "True\n",
      "<type 'numpy.ndarray'>\n",
      "True\n",
      "<type 'numpy.ndarray'>\n",
      "True\n",
      "<type 'numpy.ndarray'>\n",
      "True\n",
      "<type 'numpy.ndarray'>\n",
      "True\n",
      "<type 'numpy.ndarray'>\n",
      "True\n",
      "<type 'numpy.ndarray'>\n"
     ]
    }
   ],
   "source": [
    "cap = cv2.VideoCapture('../example-videos/video-1528386379.mp4')\n",
    "cap_cov = cv2.VideoCapture('../test_image/hehe.gif')\n",
    "#cap_out = cv2.VideoCapture('../test_image/out.mp4')\n",
    "success,image = cap_out.read()\n",
    "count = 0\n",
    "success = True\n",
    "while(cap.isOpened() and cap_cov.isOpened()):\n",
    "    ret, frame = cap.read()\n",
    "    ret_cov, frame_cov = cap_cov.read()\n",
    "    print(ret_cov)\n",
    "    #print(np.shape(frame_cov))\n",
    "    #gray = cv2.cvtColor(frame, cv2.COLOR_BGR2GRAY)\n",
    "    #gray_cov = cv2.cvtColor(frame_cov, cv2.COLOR_BGR2GRAY)\n",
    "    #print(tem)\n",
    "    #print(np.shape(gray[0]))\n",
    "    gray_n = np.ceil( frame / 10 )\n",
    "    gray_n = np.uint8(gray_n)\n",
    "    #print(np.shape(gray[:np.shape(gray_cov)[0],:np.shape(gray_cov)[1]]))\n",
    "    try:\n",
    "        gray_n[:np.shape(frame_cov)[0],:np.shape(frame_cov)[1],:np.shape(frame_cov)[2]] += frame_cov\n",
    "    except:\n",
    "        break\n",
    "    #gray_n = gray_n\n",
    "    #white = np.full(shape=(480,873),dtype=np.uint8,)\n",
    "    print(type(gray_n[0][0]))\n",
    "    ##gray_n[:np.shape(frame_cov)[0],:np.shape(frame_cov)[1],:np.shape(frame_cov)[2]]-=frame_cov\n",
    "    #cv2.imwrite(gray_n, image)     # save frame as JPEG file\n",
    "    success,image = cap_out.read()\n",
    "    success+=1\n",
    "    cv2.imshow('frame',gray_n)\n",
    "    cv2.imshow('origin',frame)\n",
    "    if cv2.waitKey(1) & 0xFF == ord('q'):\n",
    "        break\n",
    "cap_out.release()\n",
    "cap.release()\n",
    "cap_cov.release()\n",
    "cv2.destroyAllWindows()"
   ]
  },
  {
   "cell_type": "code",
   "execution_count": 3,
   "metadata": {
    "collapsed": true
   },
   "outputs": [],
   "source": [
    "def resize(image,width,height):\n",
    "    try:\n",
    "        im = Image.fromarray(image)\n",
    "        new = im.resize((width,height),Image.BILINEAR)\n",
    "        return np.array(new)\n",
    "    except:\n",
    "        return 0"
   ]
  },
  {
   "cell_type": "code",
   "execution_count": 71,
   "metadata": {},
   "outputs": [],
   "source": [
    "def encry(video_path, cover_path, method = 0, transform_number):\n",
    "    out_name = video_path.split('/')[-1][:-4]+\"_\"+cover_path.split('/')[-1][:-4]\n",
    "    if method == 1:\n",
    "        os.mkdir(out_name)\n",
    "        count = 0\n",
    "    elif method == 0:\n",
    "        out = cv2.VideoWriter(out_name+\"test.mp4\",cv2.VideoWriter_fourcc(*'avc1'),20.0,(480,360))\n",
    "    else:\n",
    "        print( 'There is no method %d you want to use \\n 0 : Just output a mp4 file \\n 1 : Out a series of picture' %\n",
    "             method)\n",
    "        return -1\n",
    "    \n",
    "    origin_cap = cv2.VideoCapture(video_path)\n",
    "    cover_cap = cv2.VideoCapture(cover_path)\n",
    "    while(origin_cap.isOpened()):\n",
    "        origin_ret, origin_frame = origin_cap.read()\n",
    "        cover_ret, cover_frame = cover_cap.read()\n",
    "        if (cover_ret == False):\n",
    "            cover_cap.release()\n",
    "            cover_cap = cv2.VideoCapture(str(cover_path))\n",
    "            cover_ret, cover_frame = cover_cap.read()\n",
    "        origin_frame = resize(origin_frame,480,360)\n",
    "        cover_frame = resize(cover_frame,480,360)\n",
    "        blur = np.uint8(np.ceil(origin_frame / transform_number))\n",
    "        blur+=cover_frame\n",
    "        \n",
    "        if(origin_ret == True):\n",
    "            if method == 0:\n",
    "                out.write(blur)\n",
    "            elif method == 1 and count < 1000:\n",
    "                cv2.imwrite(\"./\"+out_name+\"/%04d.jpg\" % count, blur)\n",
    "                count+=1\n",
    "        else:\n",
    "            break\n",
    "        cv2.imshow(\"blur\",blur)\n",
    "        if cv2.waitKey(10) & 0xFF == ord('q'):\n",
    "            break\n",
    "        \n",
    "    origin_cap.release()\n",
    "    cover_cap.release()\n",
    "    out.release()\n",
    "    cv2.destroyAllWindows()"
   ]
  },
  {
   "cell_type": "code",
   "execution_count": 43,
   "metadata": {
    "collapsed": true
   },
   "outputs": [],
   "source": [
    "def decry(video_path, cover_path,transform_number):\n",
    "    out_name = video_path.split('/')[-1][:-4]+\"_\"+cover_path.split('/')[-1][:-4]\n",
    "    #out = cv2.VideoWriter(out_name+\"_decry.avi\",cv2.VideoWriter_fourcc('M','J','P','G'),20.0,(480,360))\n",
    "    out = cv2.VideoWriter(\"../mp4/\"+out_name+\"_decry.mp4\",cv2.VideoWriter_fourcc(*'mp4v'),25.0,(480,360))\n",
    "    origin_cap = cv2.VideoCapture(video_path)\n",
    "    cover_cap = cv2.VideoCapture(cover_path)\n",
    "    while(origin_cap.isOpened()):\n",
    "        origin_ret, origin_frame = origin_cap.read()\n",
    "        cover_ret, cover_frame = cover_cap.read()\n",
    "        if (cover_ret == False):\n",
    "            cover_cap.release()\n",
    "            cover_cap = cv2.VideoCapture(str(cover_path))\n",
    "            cover_ret, cover_frame = cover_cap.read()\n",
    "        origin_frame = resize(origin_frame,480,360)\n",
    "        cover_frame = resize(cover_frame,480,360)\n",
    "        blur = origin_frame - cover_frame\n",
    "        blur*=transform_number\n",
    "        if(origin_ret == True):\n",
    "            out.write(blur)\n",
    "        else:\n",
    "            break\n",
    "        cv2.imshow(\"blur\",blur)\n",
    "        if cv2.waitKey(10) & 0xFF == ord('q'):\n",
    "            break\n",
    "        \n",
    "    origin_cap.release()\n",
    "    cover_cap.release()\n",
    "    out.release()\n",
    "    cv2.destroyAllWindows()"
   ]
  },
  {
   "cell_type": "code",
   "execution_count": 69,
   "metadata": {
    "collapsed": true
   },
   "outputs": [],
   "source": [
    "def decry2(folder_PATH, cover_path,transform_number):\n",
    "    out_name = video_path.split('/')[-1][:-4]+\"_\"+cover_path.split('/')[-1][:-4]\n",
    "    #out = cv2.VideoWriter(\"Hello.mp4\",cv2.VideoWriter_fourcc(*'mp4v'),25.0,(480,360))\n",
    "    cover_cap = cv2.VideoCapture(cover_path)\n",
    "    for i in range(500):\n",
    "        cover_ret, cover_frame = cover_cap.read()\n",
    "        if (cover_ret == False):\n",
    "            cover_cap.release()\n",
    "            cover_cap = cv2.VideoCapture(str(cover_path))\n",
    "            cover_ret, cover_frame = cover_cap.read()\n",
    "        cover_frame = resize(cover_frame,480,360)\n",
    "        image = cv2.imread(\"./\"+out_name+\"/%04d.jpg\" % i)\n",
    "        pre_image = image - cover_frame\n",
    "        pre_image*=transform_number\n",
    "        cv2.imshow(\"pre_image\",pre_image)\n",
    "        if cv2.waitKey(1) & 0xFF == ord('q'):\n",
    "            break\n",
    "    cover_cap.release()\n",
    "    cv2.destroyAllWindows()"
   ]
  },
  {
   "cell_type": "code",
   "execution_count": 70,
   "metadata": {},
   "outputs": [],
   "source": [
    "decry2(\"gg\",\"../test_image/cover.mp4\")"
   ]
  },
  {
   "cell_type": "code",
   "execution_count": 56,
   "metadata": {},
   "outputs": [
    {
     "ename": "UnboundLocalError",
     "evalue": "local variable 'out' referenced before assignment",
     "output_type": "error",
     "traceback": [
      "\u001b[0;31m---------------------------------------------------------------------------\u001b[0m",
      "\u001b[0;31mUnboundLocalError\u001b[0m                         Traceback (most recent call last)",
      "\u001b[0;32m<ipython-input-56-d557f2fd0096>\u001b[0m in \u001b[0;36m<module>\u001b[0;34m()\u001b[0m\n\u001b[0;32m----> 1\u001b[0;31m \u001b[0mencry\u001b[0m\u001b[0;34m(\u001b[0m\u001b[0;34m\"../example-videos/video-1528386379.mp4\"\u001b[0m\u001b[0;34m,\u001b[0m\u001b[0;34m\"../test_image/cover.mp4\"\u001b[0m\u001b[0;34m,\u001b[0m\u001b[0;36m1\u001b[0m\u001b[0;34m)\u001b[0m\u001b[0;34m\u001b[0m\u001b[0m\n\u001b[0m",
      "\u001b[0;32m<ipython-input-54-c8a4424df124>\u001b[0m in \u001b[0;36mencry\u001b[0;34m(video_path, cover_path, method)\u001b[0m\n\u001b[1;32m     39\u001b[0m     \u001b[0morigin_cap\u001b[0m\u001b[0;34m.\u001b[0m\u001b[0mrelease\u001b[0m\u001b[0;34m(\u001b[0m\u001b[0;34m)\u001b[0m\u001b[0;34m\u001b[0m\u001b[0m\n\u001b[1;32m     40\u001b[0m     \u001b[0mcover_cap\u001b[0m\u001b[0;34m.\u001b[0m\u001b[0mrelease\u001b[0m\u001b[0;34m(\u001b[0m\u001b[0;34m)\u001b[0m\u001b[0;34m\u001b[0m\u001b[0m\n\u001b[0;32m---> 41\u001b[0;31m     \u001b[0mout\u001b[0m\u001b[0;34m.\u001b[0m\u001b[0mrelease\u001b[0m\u001b[0;34m(\u001b[0m\u001b[0;34m)\u001b[0m\u001b[0;34m\u001b[0m\u001b[0m\n\u001b[0m\u001b[1;32m     42\u001b[0m     \u001b[0mcv2\u001b[0m\u001b[0;34m.\u001b[0m\u001b[0mdestroyAllWindows\u001b[0m\u001b[0;34m(\u001b[0m\u001b[0;34m)\u001b[0m\u001b[0;34m\u001b[0m\u001b[0m\n",
      "\u001b[0;31mUnboundLocalError\u001b[0m: local variable 'out' referenced before assignment"
     ]
    }
   ],
   "source": [
    "encry(\"../example-videos/video-1528386379.mp4\",\"../test_image/cover.mp4\",1)"
   ]
  },
  {
   "cell_type": "code",
   "execution_count": 65,
   "metadata": {
    "collapsed": true
   },
   "outputs": [],
   "source": [
    "decry(\"../video-processing/video-1528386379_covertest.avi\",\"../test_image/cover.mp4\")"
   ]
  },
  {
   "cell_type": "code",
   "execution_count": 119,
   "metadata": {},
   "outputs": [
    {
     "data": {
      "text/plain": [
       "['..', 'test_image', 'cover.mp4']"
      ]
     },
     "execution_count": 119,
     "metadata": {},
     "output_type": "execute_result"
    }
   ],
   "source": [
    "a.split('/')"
   ]
  },
  {
   "cell_type": "code",
   "execution_count": null,
   "metadata": {
    "collapsed": true
   },
   "outputs": [],
   "source": []
  }
 ],
 "metadata": {
  "kernelspec": {
   "display_name": "Python [conda env:anaconda]",
   "language": "python",
   "name": "conda-env-anaconda-py"
  },
  "language_info": {
   "codemirror_mode": {
    "name": "ipython",
    "version": 2
   },
   "file_extension": ".py",
   "mimetype": "text/x-python",
   "name": "python",
   "nbconvert_exporter": "python",
   "pygments_lexer": "ipython2",
   "version": "2.7.13"
  }
 },
 "nbformat": 4,
 "nbformat_minor": 2
}
