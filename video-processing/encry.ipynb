{
 "cells": [
  {
   "cell_type": "code",
   "execution_count": 1,
   "metadata": {},
   "outputs": [
    {
     "data": {
      "text/plain": [
       "['',\n",
       " '/Users/joe/anaconda/lib/python27.zip',\n",
       " '/Users/joe/anaconda/lib/python2.7',\n",
       " '/Users/joe/anaconda/lib/python2.7/plat-darwin',\n",
       " '/Users/joe/anaconda/lib/python2.7/plat-mac',\n",
       " '/Users/joe/anaconda/lib/python2.7/plat-mac/lib-scriptpackages',\n",
       " '/Users/joe/anaconda/lib/python2.7/lib-tk',\n",
       " '/Users/joe/anaconda/lib/python2.7/lib-old',\n",
       " '/Users/joe/anaconda/lib/python2.7/lib-dynload',\n",
       " '/Users/joe/.local/lib/python2.7/site-packages',\n",
       " '/Users/joe/anaconda/lib/python2.7/site-packages',\n",
       " '/Users/joe/anaconda/lib/python2.7/site-packages/Sphinx-1.5.6-py2.7.egg',\n",
       " '/Users/joe/anaconda/lib/python2.7/site-packages/aeosa',\n",
       " '/Users/joe/anaconda/lib/python2.7/site-packages/Django-1.9-py2.7.egg',\n",
       " '/Users/joe/anaconda/lib/python2.7/site-packages/IPython/extensions',\n",
       " '/Users/joe/.ipython']"
      ]
     },
     "execution_count": 1,
     "metadata": {},
     "output_type": "execute_result"
    }
   ],
   "source": [
    "import os\n",
    "os.sys.path\n"
   ]
  },
  {
   "cell_type": "code",
   "execution_count": 2,
   "metadata": {
    "collapsed": true
   },
   "outputs": [],
   "source": [
    "import numpy as np\n",
    "import cv2"
   ]
  },
  {
   "cell_type": "code",
   "execution_count": 20,
   "metadata": {},
   "outputs": [
    {
     "name": "stdout",
     "output_type": "stream",
     "text": [
      "I am in success\n"
     ]
    },
    {
     "ename": "KeyboardInterrupt",
     "evalue": "",
     "output_type": "error",
     "traceback": [
      "\u001b[0;31m---------------------------------------------------------------------------\u001b[0m",
      "\u001b[0;31mKeyboardInterrupt\u001b[0m                         Traceback (most recent call last)",
      "\u001b[0;32m<ipython-input-20-1b046a98f941>\u001b[0m in \u001b[0;36m<module>\u001b[0;34m()\u001b[0m\n\u001b[1;32m      8\u001b[0m   \u001b[0msuccess\u001b[0m\u001b[0;34m,\u001b[0m\u001b[0mimage\u001b[0m \u001b[0;34m=\u001b[0m \u001b[0mvidcap\u001b[0m\u001b[0;34m.\u001b[0m\u001b[0mread\u001b[0m\u001b[0;34m(\u001b[0m\u001b[0;34m)\u001b[0m\u001b[0;34m\u001b[0m\u001b[0m\n\u001b[1;32m      9\u001b[0m   \u001b[0mresize\u001b[0m \u001b[0;34m=\u001b[0m \u001b[0mcv2\u001b[0m\u001b[0;34m.\u001b[0m\u001b[0mresize\u001b[0m\u001b[0;34m(\u001b[0m\u001b[0mimage\u001b[0m\u001b[0;34m,\u001b[0m \u001b[0;34m(\u001b[0m\u001b[0;36m640\u001b[0m\u001b[0;34m,\u001b[0m \u001b[0;36m480\u001b[0m\u001b[0;34m)\u001b[0m\u001b[0;34m)\u001b[0m\u001b[0;34m\u001b[0m\u001b[0m\n\u001b[0;32m---> 10\u001b[0;31m   \u001b[0mcv2\u001b[0m\u001b[0;34m.\u001b[0m\u001b[0mimwrite\u001b[0m\u001b[0;34m(\u001b[0m\u001b[0;34m\"%03d.jpg\"\u001b[0m \u001b[0;34m%\u001b[0m \u001b[0mcount\u001b[0m\u001b[0;34m,\u001b[0m \u001b[0mresize\u001b[0m\u001b[0;34m)\u001b[0m\u001b[0;34m\u001b[0m\u001b[0m\n\u001b[0m\u001b[1;32m     11\u001b[0m   \u001b[0;32mif\u001b[0m \u001b[0mcv2\u001b[0m\u001b[0;34m.\u001b[0m\u001b[0mwaitKey\u001b[0m\u001b[0;34m(\u001b[0m\u001b[0;36m10\u001b[0m\u001b[0;34m)\u001b[0m \u001b[0;34m==\u001b[0m \u001b[0;36m27\u001b[0m\u001b[0;34m:\u001b[0m\u001b[0;34m\u001b[0m\u001b[0m\n\u001b[1;32m     12\u001b[0m       \u001b[0;32mbreak\u001b[0m\u001b[0;34m\u001b[0m\u001b[0m\n",
      "\u001b[0;31mKeyboardInterrupt\u001b[0m: "
     ]
    }
   ],
   "source": [
    "## convert video to scale 640*480\n",
    "\n",
    "vidcap = cv2.VideoCapture('video-1528386379.mp4')\n",
    "success,image = vidcap.read()\n",
    "count = 0;\n",
    "print \"I am in success\"\n",
    "while success:\n",
    "  success,image = vidcap.read()\n",
    "  resize = cv2.resize(image, (640, 480)) \n",
    "  cv2.imwrite(\"%03d.jpg\" % count, resize)     \n",
    "  if cv2.waitKey(10) == 27:                     \n",
    "      break\n",
    "  count += 1"
   ]
  },
  {
   "cell_type": "code",
   "execution_count": 23,
   "metadata": {},
   "outputs": [
    {
     "name": "stdout",
     "output_type": "stream",
     "text": [
      "<type 'numpy.uint8'>\n",
      "255\n",
      "51\n",
      "(480, 873)\n",
      "<type 'numpy.uint8'>\n"
     ]
    }
   ],
   "source": [
    "cap = cv2.VideoCapture('video-1528386379.mp4')\n",
    "\n",
    "def make_480p():\n",
    "    cap.set(3, 360)\n",
    "    cap.set(4, 480)\n",
    "make_480p()\n",
    "while(cap.isOpened()):\n",
    "    ret, frame = cap.read()\n",
    "    #print(frame)\n",
    "    gray = cv2.cvtColor(frame, cv2.COLOR_BGR2GRAY)\n",
    "    #print(gray)\n",
    "    print(type(gray[0][0]))\n",
    "    print(gray.max())\n",
    "    gray_n = np.ceil( gray / 5 )\n",
    "    gray_n = np.uint8(gray_n)\n",
    "    print(gray_n.max())\n",
    "    print(gray_n.shape)\n",
    "    gray_n = gray_n\n",
    "    white = np.full(shape=(480,873),dtype=np.uint8,)\n",
    "    print(type(gray_n[0][0]))\n",
    "    cv2.imshow('frame',gray_n)\n",
    "    if cv2.waitKey(0) & 0xFF == ord('q'):\n",
    "        break\n",
    "\n",
    "cap.release()\n",
    "cv2.destroyAllWindows()"
   ]
  },
  {
   "cell_type": "code",
   "execution_count": null,
   "metadata": {
    "collapsed": true
   },
   "outputs": [],
   "source": []
  }
 ],
 "metadata": {
  "kernelspec": {
   "display_name": "Python [conda env:anaconda]",
   "language": "python",
   "name": "conda-env-anaconda-py"
  },
  "language_info": {
   "codemirror_mode": {
    "name": "ipython",
    "version": 2
   },
   "file_extension": ".py",
   "mimetype": "text/x-python",
   "name": "python",
   "nbconvert_exporter": "python",
   "pygments_lexer": "ipython2",
   "version": "2.7.13"
  }
 },
 "nbformat": 4,
 "nbformat_minor": 2
}
